{
 "cells": [
  {
   "cell_type": "code",
   "execution_count": 1,
   "id": "bc5a9d16",
   "metadata": {},
   "outputs": [],
   "source": [
    "import numpy as np\n",
    "import pandas as pd\n",
    "import os\n",
    "import json\n",
    "from tqdm import tqdm"
   ]
  },
  {
   "cell_type": "code",
   "execution_count": 3,
   "id": "bc6207fa",
   "metadata": {},
   "outputs": [
    {
     "name": "stdout",
     "output_type": "stream",
     "text": [
      "(159279, 384)\n"
     ]
    }
   ],
   "source": [
    "embeddings = np.load(os.path.join(\"data\", embed_filename))\n",
    "print(embeddings.shape)"
   ]
  },
  {
   "cell_type": "code",
   "execution_count": 4,
   "id": "58316b73",
   "metadata": {},
   "outputs": [
    {
     "name": "stdout",
     "output_type": "stream",
     "text": [
      "159279\n",
      "(159279, 17)\n"
     ]
    }
   ],
   "source": [
    "df = pd.read_parquet(os.path.join(\"data\", \"items_meta.parquet\"))\n",
    "print(df[\"item_id\"].nunique())\n",
    "print(df.shape)\n",
    "\n",
    "with open(os.path.join(\"data\", \"iid2idx.json\"), \"r\") as f:\n",
    "    idx_dict = json.load(f)"
   ]
  },
  {
   "cell_type": "code",
   "execution_count": null,
   "id": "6dbebc88",
   "metadata": {},
   "outputs": [],
   "source": [
    "for "
   ]
  },
  {
   "cell_type": "code",
   "execution_count": null,
   "id": "0616ab7a",
   "metadata": {},
   "outputs": [
    {
     "ename": "NameError",
     "evalue": "name 'new_ids' is not defined",
     "output_type": "error",
     "traceback": [
      "\u001b[31m---------------------------------------------------------------------------\u001b[39m",
      "\u001b[31mNameError\u001b[39m                                 Traceback (most recent call last)",
      "\u001b[36mCell\u001b[39m\u001b[36m \u001b[39m\u001b[32mIn[5]\u001b[39m\u001b[32m, line 3\u001b[39m\n\u001b[32m      1\u001b[39m df_embeddings = np.zeros((\u001b[38;5;28mlen\u001b[39m(df), embeddings.shape[\u001b[32m1\u001b[39m]))\n\u001b[32m----> \u001b[39m\u001b[32m3\u001b[39m id2pos = {\u001b[38;5;28mid\u001b[39m:i \u001b[38;5;28;01mfor\u001b[39;00m i, \u001b[38;5;28mid\u001b[39m \u001b[38;5;129;01min\u001b[39;00m \u001b[38;5;28menumerate\u001b[39m(\u001b[43mnew_ids\u001b[49m)}\n\u001b[32m      4\u001b[39m \u001b[38;5;28;01mfor\u001b[39;00m i, row \u001b[38;5;129;01min\u001b[39;00m tqdm(df.iterrows(), total=\u001b[38;5;28mlen\u001b[39m(df)):\n\u001b[32m      5\u001b[39m     item_id = row[\u001b[33m\"\u001b[39m\u001b[33mitem_id\u001b[39m\u001b[33m\"\u001b[39m]\n",
      "\u001b[31mNameError\u001b[39m: name 'new_ids' is not defined"
     ]
    }
   ],
   "source": [
    "df_embeddings = np.zeros((len(df), embeddings.shape[1]))\n",
    "\n",
    "id2pos = {id:i for i, id in enumerate(new_ids)}\n",
    "for i, row in tqdm(df.iterrows(), total=len(df)):\n",
    "    item_id = row[\"item_id\"]\n",
    "    if item_id in id2pos:\n",
    "        emb_idx = id2pos[item_id]\n",
    "        df_embeddings[i] = embeddings[emb_idx]\n",
    "    else:\n",
    "        print(\"no embedding found\")"
   ]
  },
  {
   "cell_type": "code",
   "execution_count": null,
   "id": "55aa3940",
   "metadata": {},
   "outputs": [
    {
     "name": "stdout",
     "output_type": "stream",
     "text": [
      "Index(['item_id', 'main_category', 'title', 'average_rating', 'rating_number',\n",
      "       'features', 'description', 'price', 'images', 'videos', 'store',\n",
      "       'categories', 'details', 'parent_asin', 'bought_together', 'subtitle',\n",
      "       'author', 'embedding'],\n",
      "      dtype='object')\n"
     ]
    }
   ],
   "source": [
    "df[\"embedding\"] = list(df_embeddings)\n",
    "print(df.columns)"
   ]
  },
  {
   "cell_type": "code",
   "execution_count": null,
   "id": "153edc14",
   "metadata": {},
   "outputs": [
    {
     "name": "stdout",
     "output_type": "stream",
     "text": [
      "(159279, 384)\n"
     ]
    }
   ],
   "source": [
    "embeddings = np.vstack(df[\"embedding\"].values)\n",
    "print(embeddings.shape)"
   ]
  },
  {
   "cell_type": "code",
   "execution_count": null,
   "id": "3b16143c",
   "metadata": {},
   "outputs": [],
   "source": [
    "from sklearn.preprocessing import LabelEncoder\n",
    "\n",
    "categories = df['main_category']\n",
    "le = LabelEncoder()\n",
    "category_ids = le.fit_transform(categories)"
   ]
  },
  {
   "cell_type": "code",
   "execution_count": null,
   "id": "bef096f8",
   "metadata": {},
   "outputs": [],
   "source": [
    "from sklearn.manifold import TSNE\n",
    "\n",
    "tsne = TSNE(random_state=42)\n",
    "embeddings_2d = tsne.fit_transform(df_embeddings, verbose=1)"
   ]
  },
  {
   "cell_type": "code",
   "execution_count": null,
   "id": "13e1d536",
   "metadata": {},
   "outputs": [],
   "source": []
  }
 ],
 "metadata": {
  "kernelspec": {
   "display_name": "CS410",
   "language": "python",
   "name": "python3"
  },
  "language_info": {
   "codemirror_mode": {
    "name": "ipython",
    "version": 3
   },
   "file_extension": ".py",
   "mimetype": "text/x-python",
   "name": "python",
   "nbconvert_exporter": "python",
   "pygments_lexer": "ipython3",
   "version": "3.12.0"
  }
 },
 "nbformat": 4,
 "nbformat_minor": 5
}
